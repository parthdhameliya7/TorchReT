{
 "cells": [
  {
   "cell_type": "code",
   "execution_count": 1,
   "metadata": {},
   "outputs": [],
   "source": [
    "import sys\n",
    "sys.path.append('/Users/parth/Desktop/Flash/')"
   ]
  },
  {
   "cell_type": "code",
   "execution_count": 1,
   "metadata": {},
   "outputs": [
    {
     "name": "stderr",
     "output_type": "stream",
     "text": [
      "/Users/parth/miniconda3/envs/my_env/lib/python3.10/site-packages/tqdm/auto.py:22: TqdmWarning: IProgress not found. Please update jupyter and ipywidgets. See https://ipywidgets.readthedocs.io/en/stable/user_install.html\n",
      "  from .autonotebook import tqdm as notebook_tqdm\n"
     ]
    }
   ],
   "source": [
    "import torch \n",
    "import torch.nn as nn\n",
    "import numpy as np\n",
    "import pandas as pd \n",
    "import neptune\n",
    "\n",
    "from sklearn import metrics\n",
    "from sklearn.model_selection import train_test_split\n",
    "\n",
    "import timm\n",
    "import albumentations\n",
    "from neptune.types import File\n",
    "from torchret import Model \n",
    "import plotly.graph_objects as go"
   ]
  },
  {
   "cell_type": "code",
   "execution_count": 2,
   "metadata": {},
   "outputs": [],
   "source": [
    "configs = {\n",
    "    'lr' : 1e-4,\n",
    "    'eta_min' : 1e-6,\n",
    "    'T_0' : 20,\n",
    "    'epochs' : 20,\n",
    "    'step_scheduler_after' : 'epoch',\n",
    "\n",
    "    'train_bs' : 256,\n",
    "    'valid_bs' : 256,\n",
    "\n",
    "    'num_workers' : 0,\n",
    "    'pin_memory' : False,\n",
    "\n",
    "    'model_name' : 'resnet10t',\n",
    "    'pretrained' : True,\n",
    "    'num_classes' : 10,\n",
    "    'in_channels' : 1,\n",
    "    'device' : 'mps',\n",
    "\n",
    "    'model_path' : 'digit-recognizer.pt',\n",
    "    'save_best_model' : 'on_eval_metric',\n",
    "    'save_on_metric' : 'accuracy',\n",
    "    'save_model_at_every_epoch' : False,\n",
    "\n",
    "}"
   ]
  },
  {
   "cell_type": "code",
   "execution_count": 3,
   "metadata": {},
   "outputs": [],
   "source": [
    "class DigitRecognizerDataset(torch.utils.data.Dataset):\n",
    "    def __init__(self, df, augmentations):\n",
    "        self.df = df\n",
    "        self.targets = df.label.values\n",
    "        self.df = self.df.drop(columns=[\"label\"])\n",
    "        self.augmentations = augmentations\n",
    "\n",
    "        self.images = self.df.to_numpy(dtype=np.float32).reshape((-1, 28, 28))\n",
    "\n",
    "    def __len__(self):\n",
    "        return len(self.df)\n",
    "\n",
    "    def __getitem__(self, item):\n",
    "        targets = self.targets[item]\n",
    "        image = self.images[item]\n",
    "        image = np.expand_dims(image, axis=0)\n",
    "\n",
    "        return {\n",
    "            \"images\": torch.tensor(image, dtype=torch.float),\n",
    "            \"targets\": torch.tensor(targets, dtype=torch.long),\n",
    "        }"
   ]
  },
  {
   "cell_type": "code",
   "execution_count": 4,
   "metadata": {},
   "outputs": [],
   "source": [
    "train_augs = albumentations.Compose(\n",
    "        [\n",
    "            albumentations.Normalize(\n",
    "                mean=[0.485, 0.456, 0.406],\n",
    "                std=[0.229, 0.224, 0.225],\n",
    "                max_pixel_value=255.0,\n",
    "                p=1.0,\n",
    "            ),\n",
    "        ],\n",
    "        p=1.0,\n",
    "    )\n",
    "\n",
    "valid_augs = albumentations.Compose(\n",
    "        [\n",
    "            albumentations.Normalize(\n",
    "                mean=[0.485, 0.456, 0.406],\n",
    "                std=[0.229, 0.224, 0.225],\n",
    "                max_pixel_value=255.0,\n",
    "                p=1.0,\n",
    "            ),\n",
    "        ],\n",
    "        p=1.0,\n",
    "    )"
   ]
  },
  {
   "cell_type": "code",
   "execution_count": 5,
   "metadata": {},
   "outputs": [],
   "source": [
    "class DigitRecognizerModel(Model):\n",
    "    def __init__(self):\n",
    "        super().__init__()\n",
    "\n",
    "        self.model = timm.create_model(\n",
    "            model_name = configs['model_name'],\n",
    "            pretrained=configs['pretrained'],\n",
    "            in_chans=configs['in_channels'],\n",
    "            num_classes=configs['num_classes'],\n",
    "        )\n",
    "\n",
    "        self.num_workers = configs['num_workers']\n",
    "        self.pin_memory = configs['pin_memory']\n",
    "        self.step_scheduler_after = configs['step_scheduler_after']\n",
    "\n",
    "        self.model_path = configs['model_path']\n",
    "        self.save_best_model = configs['save_best_model']\n",
    "        self.save_on_metric = configs['save_on_metric']\n",
    "        self.save_model_at_every_epoch = configs['save_model_at_every_epoch']\n",
    "\n",
    "    def setup_logger(self):\n",
    "        neptune_api = NEPTUNE_API_TOKEN\n",
    "        self.run = neptune.init_run(\n",
    "            project='abc/Digit-recog',\n",
    "            api_token=neptune_api,\n",
    "            capture_stdout=True,       # Enable capture of stdout\n",
    "            capture_stderr=True,       # Enable capture of stderr\n",
    "            capture_traceback=True,    # Enable capture of traceback\n",
    "            capture_hardware_metrics=True,  # Enable capture of hardware metrics\n",
    "            source_files='*.ipynb'  # Capture notebook outputs\n",
    "        )\n",
    "        self.run['parameters'] = configs\n",
    "\n",
    "    def valid_one_step_logs(self, batch_id, data, logits, loss, metrics):\n",
    "        if batch_id % len(self.validloader) == 100:\n",
    "            images = data['images']\n",
    "            labels = data['targets']\n",
    "            outputs = np.argmax(logits.cpu().detach().numpy(), axis=1)\n",
    "            images = images.permute(0, 2, 3, 1).squeeze().cpu()\n",
    "            for i in range(len(images)):\n",
    "                description = f'true label : {labels[i]} prediction : {outputs[i]}'\n",
    "                self.run[\"valid/prediction_example\"].append(File.as_image(images[i]), description = description)\n",
    "\n",
    "    def train_one_epoch_logs(self, loss, monitor):\n",
    "        self.run['train/loss'].append(loss)\n",
    "        self.run['train/monitors'].append(monitor)\n",
    "\n",
    "    def valid_one_epoch_logs(self, loss, monitor):\n",
    "        self.run['valid/loss'].append(loss)\n",
    "        self.run['valid/monitors'].append(monitor)\n",
    "\n",
    "    def monitor_metrics(self, outputs, targets):\n",
    "        device = targets.device.type\n",
    "        outputs = np.argmax(outputs.cpu().detach().numpy(), axis=1)\n",
    "        targets = targets.cpu().detach().numpy()\n",
    "        acc = metrics.accuracy_score(targets, outputs)\n",
    "        acc = torch.tensor(acc).float()\n",
    "        f1_score = metrics.f1_score(targets, outputs, average = 'macro')\n",
    "        f1_score = torch.tensor(f1_score)\n",
    "        return {\"accuracy\": acc, 'f1_score' : f1_score}\n",
    "    \n",
    "    def monitor_loss(self, outputs, targets):\n",
    "        loss = nn.CrossEntropyLoss()(outputs, targets)\n",
    "        return loss\n",
    "\n",
    "    def fetch_optimizer(self):\n",
    "        opt = torch.optim.SGD(\n",
    "            self.parameters(),\n",
    "            lr=configs['lr'],\n",
    "            momentum=0.9,\n",
    "        )\n",
    "        sch = torch.optim.lr_scheduler.CosineAnnealingWarmRestarts(\n",
    "            opt, \n",
    "            T_0 = configs['T_0'],\n",
    "            eta_min = configs['eta_min'],\n",
    "            T_mult= 1\n",
    "        )\n",
    "        return opt, sch\n",
    "\n",
    "    def forward(self, images, targets=None):\n",
    "        x = self.model(images)\n",
    "        if targets is not None:\n",
    "            loss = self.monitor_loss(x, targets)\n",
    "            metrics = self.monitor_metrics(x, targets)\n",
    "            return x, loss, metrics\n",
    "        return x, 0, {}"
   ]
  },
  {
   "cell_type": "code",
   "execution_count": 6,
   "metadata": {},
   "outputs": [
    {
     "name": "stderr",
     "output_type": "stream",
     "text": [
      "100%|██████████| 132/132 [00:22<00:00,  5.78it/s, accuracy=0.256, current_lr=0.0001, epoch=1, f1_score=0.246, loss=2.180834, stage=train]\n",
      "100%|██████████| 33/33 [00:01<00:00, 17.35it/s, accuracy=0.439, epoch=1, f1_score=0.421, loss=1.711278, stage=eval]\n"
     ]
    },
    {
     "name": "stdout",
     "output_type": "stream",
     "text": [
      "Model Saved at digit-recognizer.pt\n",
      "Model was saved based on_eval_metric with 0.4385107078335502 accuracy\n"
     ]
    },
    {
     "name": "stderr",
     "output_type": "stream",
     "text": [
      "100%|██████████| 132/132 [00:23<00:00,  5.61it/s, accuracy=0.555, current_lr=9.94e-5, epoch=2, f1_score=0.541, loss=1.432079, stage=train]\n",
      "100%|██████████| 33/33 [00:02<00:00, 11.64it/s, accuracy=0.639, epoch=2, f1_score=0.625, loss=1.194170, stage=eval]\n"
     ]
    },
    {
     "name": "stdout",
     "output_type": "stream",
     "text": [
      "Model Saved at digit-recognizer.pt\n",
      "Model was saved based on_eval_metric with 0.6387037436167399 accuracy\n"
     ]
    },
    {
     "name": "stderr",
     "output_type": "stream",
     "text": [
      "100%|██████████| 132/132 [00:21<00:00,  6.19it/s, accuracy=0.701, current_lr=9.76e-5, epoch=3, f1_score=0.692, loss=1.039973, stage=train]\n",
      "100%|██████████| 33/33 [00:01<00:00, 16.95it/s, accuracy=0.749, epoch=3, f1_score=0.74, loss=0.910744, stage=eval] \n"
     ]
    },
    {
     "name": "stdout",
     "output_type": "stream",
     "text": [
      "Model Saved at digit-recognizer.pt\n",
      "Model was saved based on_eval_metric with 0.7489983981305902 accuracy\n"
     ]
    },
    {
     "name": "stderr",
     "output_type": "stream",
     "text": [
      "100%|██████████| 132/132 [00:17<00:00,  7.35it/s, accuracy=0.779, current_lr=9.46e-5, epoch=4, f1_score=0.773, loss=0.799934, stage=train]\n",
      "100%|██████████| 33/33 [00:01<00:00, 20.02it/s, accuracy=0.807, epoch=4, f1_score=0.801, loss=0.726126, stage=eval]\n"
     ]
    },
    {
     "name": "stdout",
     "output_type": "stream",
     "text": [
      "Model Saved at digit-recognizer.pt\n",
      "Model was saved based on_eval_metric with 0.8068090767571421 accuracy\n"
     ]
    },
    {
     "name": "stderr",
     "output_type": "stream",
     "text": [
      "100%|██████████| 132/132 [00:20<00:00,  6.51it/s, accuracy=0.827, current_lr=9.05e-5, epoch=5, f1_score=0.822, loss=0.647008, stage=train]\n",
      "100%|██████████| 33/33 [00:01<00:00, 17.24it/s, accuracy=0.84, epoch=5, f1_score=0.835, loss=0.603217, stage=eval] \n"
     ]
    },
    {
     "name": "stdout",
     "output_type": "stream",
     "text": [
      "Model Saved at digit-recognizer.pt\n",
      "Model was saved based on_eval_metric with 0.8400531754349218 accuracy\n"
     ]
    },
    {
     "name": "stderr",
     "output_type": "stream",
     "text": [
      "100%|██████████| 132/132 [00:20<00:00,  6.30it/s, accuracy=0.853, current_lr=8.55e-5, epoch=6, f1_score=0.848, loss=0.544903, stage=train]\n",
      "100%|██████████| 33/33 [00:01<00:00, 19.57it/s, accuracy=0.862, epoch=6, f1_score=0.858, loss=0.517981, stage=eval]\n"
     ]
    },
    {
     "name": "stdout",
     "output_type": "stream",
     "text": [
      "Model Saved at digit-recognizer.pt\n",
      "Model was saved based on_eval_metric with 0.8623980193427114 accuracy\n"
     ]
    },
    {
     "name": "stderr",
     "output_type": "stream",
     "text": [
      "100%|██████████| 132/132 [00:17<00:00,  7.44it/s, accuracy=0.873, current_lr=7.96e-5, epoch=7, f1_score=0.869, loss=0.468792, stage=train]\n",
      "100%|██████████| 33/33 [00:03<00:00, 10.33it/s, accuracy=0.878, epoch=7, f1_score=0.875, loss=0.454529, stage=eval]\n"
     ]
    },
    {
     "name": "stdout",
     "output_type": "stream",
     "text": [
      "Model Saved at digit-recognizer.pt\n",
      "Model was saved based on_eval_metric with 0.8780776515151515 accuracy\n"
     ]
    },
    {
     "name": "stderr",
     "output_type": "stream",
     "text": [
      "100%|██████████| 132/132 [00:19<00:00,  6.92it/s, accuracy=0.888, current_lr=7.3e-5, epoch=8, f1_score=0.883, loss=0.417407, stage=train]\n",
      "100%|██████████| 33/33 [00:01<00:00, 17.93it/s, accuracy=0.891, epoch=8, f1_score=0.888, loss=0.409891, stage=eval]\n"
     ]
    },
    {
     "name": "stdout",
     "output_type": "stream",
     "text": [
      "Model Saved at digit-recognizer.pt\n",
      "Model was saved based on_eval_metric with 0.8908162153128422 accuracy\n"
     ]
    },
    {
     "name": "stderr",
     "output_type": "stream",
     "text": [
      "100%|██████████| 132/132 [00:19<00:00,  6.81it/s, accuracy=0.898, current_lr=6.58e-5, epoch=9, f1_score=0.895, loss=0.377299, stage=train]\n",
      "100%|██████████| 33/33 [00:01<00:00, 18.52it/s, accuracy=0.897, epoch=9, f1_score=0.893, loss=0.379101, stage=eval]\n"
     ]
    },
    {
     "name": "stdout",
     "output_type": "stream",
     "text": [
      "Model Saved at digit-recognizer.pt\n",
      "Model was saved based on_eval_metric with 0.8965344555450209 accuracy\n"
     ]
    },
    {
     "name": "stderr",
     "output_type": "stream",
     "text": [
      "100%|██████████| 132/132 [00:18<00:00,  7.14it/s, accuracy=0.903, current_lr=5.82e-5, epoch=10, f1_score=0.9, loss=0.350856, stage=train]  \n",
      "100%|██████████| 33/33 [00:01<00:00, 18.28it/s, accuracy=0.902, epoch=10, f1_score=0.898, loss=0.355237, stage=eval]\n"
     ]
    },
    {
     "name": "stdout",
     "output_type": "stream",
     "text": [
      "Model Saved at digit-recognizer.pt\n",
      "Model was saved based on_eval_metric with 0.902216273726839 accuracy\n"
     ]
    },
    {
     "name": "stderr",
     "output_type": "stream",
     "text": [
      "100%|██████████| 132/132 [00:19<00:00,  6.82it/s, accuracy=0.91, current_lr=5.05e-5, epoch=11, f1_score=0.906, loss=0.328866, stage=train] \n",
      "100%|██████████| 33/33 [00:02<00:00, 16.28it/s, accuracy=0.906, epoch=11, f1_score=0.903, loss=0.336978, stage=eval]\n"
     ]
    },
    {
     "name": "stdout",
     "output_type": "stream",
     "text": [
      "Model Saved at digit-recognizer.pt\n",
      "Model was saved based on_eval_metric with 0.9060861016764785 accuracy\n"
     ]
    },
    {
     "name": "stderr",
     "output_type": "stream",
     "text": [
      "100%|██████████| 132/132 [00:20<00:00,  6.39it/s, accuracy=0.913, current_lr=4.28e-5, epoch=12, f1_score=0.911, loss=0.310399, stage=train]\n",
      "100%|██████████| 33/33 [00:02<00:00, 11.49it/s, accuracy=0.909, epoch=12, f1_score=0.907, loss=0.323446, stage=eval]\n"
     ]
    },
    {
     "name": "stdout",
     "output_type": "stream",
     "text": [
      "Model Saved at digit-recognizer.pt\n",
      "Model was saved based on_eval_metric with 0.9093458616372311 accuracy\n"
     ]
    },
    {
     "name": "stderr",
     "output_type": "stream",
     "text": [
      "100%|██████████| 132/132 [00:20<00:00,  6.42it/s, accuracy=0.918, current_lr=3.52e-5, epoch=13, f1_score=0.916, loss=0.298190, stage=train]\n",
      "100%|██████████| 33/33 [00:01<00:00, 17.77it/s, accuracy=0.912, epoch=13, f1_score=0.91, loss=0.313337, stage=eval] \n"
     ]
    },
    {
     "name": "stdout",
     "output_type": "stream",
     "text": [
      "Model Saved at digit-recognizer.pt\n",
      "Model was saved based on_eval_metric with 0.9116222316568549 accuracy\n"
     ]
    },
    {
     "name": "stderr",
     "output_type": "stream",
     "text": [
      "100%|██████████| 132/132 [00:19<00:00,  6.78it/s, accuracy=0.921, current_lr=2.8e-5, epoch=14, f1_score=0.918, loss=0.286649, stage=train]\n",
      "100%|██████████| 33/33 [00:01<00:00, 18.64it/s, accuracy=0.914, epoch=14, f1_score=0.913, loss=0.304640, stage=eval]\n"
     ]
    },
    {
     "name": "stdout",
     "output_type": "stream",
     "text": [
      "Model Saved at digit-recognizer.pt\n",
      "Model was saved based on_eval_metric with 0.9144813526760448 accuracy\n"
     ]
    },
    {
     "name": "stderr",
     "output_type": "stream",
     "text": [
      "100%|██████████| 132/132 [00:20<00:00,  6.58it/s, accuracy=0.923, current_lr=2.14e-5, epoch=15, f1_score=0.92, loss=0.280121, stage=train] \n",
      "100%|██████████| 33/33 [00:01<00:00, 18.34it/s, accuracy=0.914, epoch=15, f1_score=0.911, loss=0.301539, stage=eval]\n",
      "100%|██████████| 132/132 [00:17<00:00,  7.43it/s, accuracy=0.923, current_lr=1.55e-5, epoch=16, f1_score=0.921, loss=0.275765, stage=train]\n",
      "100%|██████████| 33/33 [00:01<00:00, 18.37it/s, accuracy=0.917, epoch=16, f1_score=0.915, loss=0.294742, stage=eval]\n"
     ]
    },
    {
     "name": "stdout",
     "output_type": "stream",
     "text": [
      "Model Saved at digit-recognizer.pt\n",
      "Model was saved based on_eval_metric with 0.917103729464791 accuracy\n"
     ]
    },
    {
     "name": "stderr",
     "output_type": "stream",
     "text": [
      "100%|██████████| 132/132 [00:17<00:00,  7.46it/s, accuracy=0.924, current_lr=1.05e-5, epoch=17, f1_score=0.922, loss=0.273015, stage=train]\n",
      "100%|██████████| 33/33 [00:01<00:00, 18.89it/s, accuracy=0.917, epoch=17, f1_score=0.915, loss=0.291873, stage=eval]\n",
      "100%|██████████| 132/132 [00:17<00:00,  7.36it/s, accuracy=0.925, current_lr=6.4e-6, epoch=18, f1_score=0.922, loss=0.269056, stage=train]\n",
      "100%|██████████| 33/33 [00:01<00:00, 17.93it/s, accuracy=0.916, epoch=18, f1_score=0.914, loss=0.294466, stage=eval]\n",
      "100%|██████████| 132/132 [00:18<00:00,  7.17it/s, accuracy=0.925, current_lr=3.42e-6, epoch=19, f1_score=0.923, loss=0.268326, stage=train]\n",
      "100%|██████████| 33/33 [00:01<00:00, 17.34it/s, accuracy=0.917, epoch=19, f1_score=0.916, loss=0.293591, stage=eval]\n",
      "100%|██████████| 132/132 [00:18<00:00,  7.24it/s, accuracy=0.926, current_lr=1.61e-6, epoch=20, f1_score=0.923, loss=0.266349, stage=train]\n",
      "100%|██████████| 33/33 [00:01<00:00, 18.90it/s, accuracy=0.917, epoch=20, f1_score=0.914, loss=0.288491, stage=eval]\n"
     ]
    }
   ],
   "source": [
    "def main():\n",
    "    df = pd.read_csv('train.csv')\n",
    "    train, test = train_test_split(df, test_size=0.2)\n",
    "\n",
    "    train_dataset = DigitRecognizerDataset(df = train, augmentations = train_augs)\n",
    "    valid_dataset = DigitRecognizerDataset(df = test, augmentations = valid_augs)\n",
    "\n",
    "    model = DigitRecognizerModel()\n",
    "    model.fit(train_dataset, valid_dataset, train_bs = configs['train_bs'], valid_bs = configs['valid_bs'], device = configs['device'], epochs = configs['epochs'], logger=False)\n",
    "\n",
    "if __name__ == \"__main__\":\n",
    "    main()"
   ]
  },
  {
   "cell_type": "code",
   "execution_count": null,
   "metadata": {},
   "outputs": [],
   "source": []
  }
 ],
 "metadata": {
  "kernelspec": {
   "display_name": "my_env",
   "language": "python",
   "name": "python3"
  },
  "language_info": {
   "codemirror_mode": {
    "name": "ipython",
    "version": 3
   },
   "file_extension": ".py",
   "mimetype": "text/x-python",
   "name": "python",
   "nbconvert_exporter": "python",
   "pygments_lexer": "ipython3",
   "version": "3.10.8"
  }
 },
 "nbformat": 4,
 "nbformat_minor": 2
}
