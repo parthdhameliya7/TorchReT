{
 "cells": [
  {
   "cell_type": "code",
   "execution_count": 9,
   "metadata": {},
   "outputs": [],
   "source": [
    "import sys\n",
    "sys.path.append('/Users/parth/Desktop/Flash/')"
   ]
  },
  {
   "cell_type": "code",
   "execution_count": 10,
   "metadata": {},
   "outputs": [],
   "source": [
    "import torch \n",
    "import torch.nn as nn\n",
    "import numpy as np\n",
    "import pandas as pd \n",
    "import neptune\n",
    "\n",
    "from sklearn import metrics\n",
    "from sklearn.model_selection import train_test_split\n",
    "\n",
    "import timm\n",
    "import albumentations\n",
    "from neptune.types import File\n",
    "from torchret import Model \n",
    "import plotly.graph_objects as go"
   ]
  },
  {
   "cell_type": "code",
   "execution_count": 11,
   "metadata": {},
   "outputs": [],
   "source": [
    "configs = {\n",
    "    'lr' : 1e-4,\n",
    "    'eta_min' : 1e-6,\n",
    "    'T_0' : 20,\n",
    "    'epochs' : 20,\n",
    "    'step_scheduler_after' : 'epoch',\n",
    "\n",
    "    'train_bs' : 256,\n",
    "    'valid_bs' : 256,\n",
    "\n",
    "    'num_workers' : 0,\n",
    "    'pin_memory' : False,\n",
    "\n",
    "    'model_name' : 'resnet10t',\n",
    "    'pretrained' : True,\n",
    "    'num_classes' : 10,\n",
    "    'in_channels' : 1,\n",
    "    'device' : 'mps',\n",
    "\n",
    "    'model_path' : 'digit-recognizer.pt',\n",
    "    'save_best_model' : 'on_eval_metric',\n",
    "    'save_on_metric' : 'accuracy',\n",
    "    'save_model_at_every_epoch' : False,\n",
    "\n",
    "}"
   ]
  },
  {
   "cell_type": "code",
   "execution_count": 12,
   "metadata": {},
   "outputs": [],
   "source": [
    "class DigitRecognizerDataset(torch.utils.data.Dataset):\n",
    "    def __init__(self, df, augmentations):\n",
    "        self.df = df\n",
    "        self.targets = df.label.values\n",
    "        self.df = self.df.drop(columns=[\"label\"])\n",
    "        self.augmentations = augmentations\n",
    "\n",
    "        self.images = self.df.to_numpy(dtype=np.float32).reshape((-1, 28, 28))\n",
    "\n",
    "    def __len__(self):\n",
    "        return len(self.df)\n",
    "\n",
    "    def __getitem__(self, item):\n",
    "        targets = self.targets[item]\n",
    "        image = self.images[item]\n",
    "        image = np.expand_dims(image, axis=0)\n",
    "\n",
    "        return {\n",
    "            \"images\": torch.tensor(image, dtype=torch.float),\n",
    "            \"targets\": torch.tensor(targets, dtype=torch.long),\n",
    "        }"
   ]
  },
  {
   "cell_type": "code",
   "execution_count": 13,
   "metadata": {},
   "outputs": [],
   "source": [
    "train_augs = albumentations.Compose(\n",
    "        [\n",
    "            albumentations.Normalize(\n",
    "                mean=[0.485, 0.456, 0.406],\n",
    "                std=[0.229, 0.224, 0.225],\n",
    "                max_pixel_value=255.0,\n",
    "                p=1.0,\n",
    "            ),\n",
    "        ],\n",
    "        p=1.0,\n",
    "    )\n",
    "\n",
    "valid_augs = albumentations.Compose(\n",
    "        [\n",
    "            albumentations.Normalize(\n",
    "                mean=[0.485, 0.456, 0.406],\n",
    "                std=[0.229, 0.224, 0.225],\n",
    "                max_pixel_value=255.0,\n",
    "                p=1.0,\n",
    "            ),\n",
    "        ],\n",
    "        p=1.0,\n",
    "    )"
   ]
  },
  {
   "cell_type": "code",
   "execution_count": 14,
   "metadata": {},
   "outputs": [],
   "source": [
    "class DigitRecognizerModel(Model):\n",
    "    def __init__(self):\n",
    "        super().__init__()\n",
    "\n",
    "        self.model = timm.create_model(\n",
    "            model_name = configs['model_name'],\n",
    "            pretrained=configs['pretrained'],\n",
    "            in_chans=configs['in_channels'],\n",
    "            num_classes=configs['num_classes'],\n",
    "        )\n",
    "\n",
    "        self.num_workers = configs['num_workers']\n",
    "        self.pin_memory = configs['pin_memory']\n",
    "        self.step_scheduler_after = configs['step_scheduler_after']\n",
    "\n",
    "        self.model_path = configs['model_path']\n",
    "        self.save_best_model = configs['save_best_model']\n",
    "        self.save_on_metric = configs['save_on_metric']\n",
    "        self.save_model_at_every_epoch = configs['save_model_at_every_epoch']\n",
    "\n",
    "    def setup_logger(self):\n",
    "        neptune_api = NEPTUNE_API_TOKEN\n",
    "        self.run = neptune.init_run(\n",
    "            project='fenilsavani62/Digit-recog',\n",
    "            api_token=neptune_api,\n",
    "            capture_stdout=True,       # Enable capture of stdout\n",
    "            capture_stderr=True,       # Enable capture of stderr\n",
    "            capture_traceback=True,    # Enable capture of traceback\n",
    "            capture_hardware_metrics=True,  # Enable capture of hardware metrics\n",
    "            source_files='*.ipynb'  # Capture notebook outputs\n",
    "        )\n",
    "        self.run['parameters'] = configs\n",
    "\n",
    "    def valid_one_step_logs(self, batch_id, data, logits, loss, metrics):\n",
    "        if batch_id % len(self.validloader) == 100:\n",
    "            images = data['images']\n",
    "            labels = data['targets']\n",
    "            outputs = np.argmax(logits.cpu().detach().numpy(), axis=1)\n",
    "            images = images.permute(0, 2, 3, 1).squeeze().cpu()\n",
    "            for i in range(len(images)):\n",
    "                description = f'true label : {labels[i]} prediction : {outputs[i]}'\n",
    "                self.run[\"valid/prediction_example\"].append(File.as_image(images[i]), description = description)\n",
    "\n",
    "    def train_one_epoch_logs(self, loss, monitor):\n",
    "        self.run['train/loss'].append(loss)\n",
    "        self.run['train/monitors'].append(monitor)\n",
    "\n",
    "    def valid_one_epoch_logs(self, loss, monitor):\n",
    "        self.run['valid/loss'].append(loss)\n",
    "        self.run['valid/monitors'].append(monitor)\n",
    "\n",
    "    def monitor_metrics(self, outputs, targets):\n",
    "        device = targets.device.type\n",
    "        outputs = np.argmax(outputs.cpu().detach().numpy(), axis=1)\n",
    "        targets = targets.cpu().detach().numpy()\n",
    "        acc = metrics.accuracy_score(targets, outputs)\n",
    "        acc = torch.tensor(acc).float()\n",
    "        f1_score = metrics.f1_score(targets, outputs, average = 'macro')\n",
    "        f1_score = torch.tensor(f1_score)\n",
    "        return {\"accuracy\": acc, 'f1_score' : f1_score}\n",
    "    \n",
    "    def monitor_loss(self, outputs, targets):\n",
    "        loss = nn.CrossEntropyLoss()(outputs, targets)\n",
    "        return loss\n",
    "\n",
    "    def fetch_optimizer(self):\n",
    "        opt = torch.optim.SGD(\n",
    "            self.parameters(),\n",
    "            lr=configs['lr'],\n",
    "            momentum=0.9,\n",
    "        )\n",
    "        sch = torch.optim.lr_scheduler.CosineAnnealingWarmRestarts(\n",
    "            opt, \n",
    "            T_0 = configs['T_0'],\n",
    "            eta_min = configs['eta_min'],\n",
    "            T_mult= 1\n",
    "        )\n",
    "        return opt, sch\n",
    "\n",
    "    def forward(self, images, targets=None):\n",
    "        x = self.model(images)\n",
    "        if targets is not None:\n",
    "            loss = self.monitor_loss(x, targets)\n",
    "            metrics = self.monitor_metrics(x, targets)\n",
    "            return x, loss, metrics\n",
    "        return x, 0, {}"
   ]
  },
  {
   "cell_type": "code",
   "execution_count": 15,
   "metadata": {},
   "outputs": [
    {
     "name": "stderr",
     "output_type": "stream",
     "text": [
      "100%|██████████| 132/132 [00:21<00:00,  6.12it/s, accuracy=0.229, current_lr=0.0001, epoch=1, f1_score=0.219, loss=2.261829, stage=train]\n",
      "100%|██████████| 33/33 [00:01<00:00, 17.27it/s, accuracy=0.406, epoch=1, f1_score=0.393, loss=1.799884, stage=eval]\n"
     ]
    },
    {
     "name": "stdout",
     "output_type": "stream",
     "text": [
      "Model Saved at digit-recognizer.pt\n",
      "Model was saved based on_eval_metric with 0.4059130973888166 accuracy\n"
     ]
    },
    {
     "name": "stderr",
     "output_type": "stream",
     "text": [
      "100%|██████████| 132/132 [00:17<00:00,  7.42it/s, accuracy=0.532, current_lr=0.0001, epoch=2, f1_score=0.518, loss=1.507485, stage=train]\n",
      "100%|██████████| 33/33 [00:01<00:00, 19.44it/s, accuracy=0.626, epoch=2, f1_score=0.614, loss=1.262709, stage=eval]\n"
     ]
    },
    {
     "name": "stdout",
     "output_type": "stream",
     "text": [
      "Model Saved at digit-recognizer.pt\n",
      "Model was saved based on_eval_metric with 0.6260744459701307 accuracy\n"
     ]
    },
    {
     "name": "stderr",
     "output_type": "stream",
     "text": [
      "100%|██████████| 132/132 [00:17<00:00,  7.49it/s, accuracy=0.693, current_lr=0.0001, epoch=3, f1_score=0.681, loss=1.084317, stage=train]\n",
      "100%|██████████| 33/33 [00:01<00:00, 19.29it/s, accuracy=0.73, epoch=3, f1_score=0.72, loss=0.960774, stage=eval]  \n"
     ]
    },
    {
     "name": "stdout",
     "output_type": "stream",
     "text": [
      "Model Saved at digit-recognizer.pt\n",
      "Model was saved based on_eval_metric with 0.7300772143132759 accuracy\n"
     ]
    },
    {
     "name": "stderr",
     "output_type": "stream",
     "text": [
      "100%|██████████| 132/132 [00:18<00:00,  7.16it/s, accuracy=0.772, current_lr=0.0001, epoch=4, f1_score=0.764, loss=0.833752, stage=train]\n",
      "100%|██████████| 33/33 [00:01<00:00, 18.86it/s, accuracy=0.793, epoch=4, f1_score=0.786, loss=0.758647, stage=eval]\n"
     ]
    },
    {
     "name": "stdout",
     "output_type": "stream",
     "text": [
      "Model Saved at digit-recognizer.pt\n",
      "Model was saved based on_eval_metric with 0.7925681092522361 accuracy\n"
     ]
    },
    {
     "name": "stderr",
     "output_type": "stream",
     "text": [
      "100%|██████████| 132/132 [00:20<00:00,  6.38it/s, accuracy=0.82, current_lr=0.0001, epoch=5, f1_score=0.813, loss=0.669492, stage=train] \n",
      "100%|██████████| 33/33 [00:02<00:00, 15.65it/s, accuracy=0.828, epoch=5, f1_score=0.822, loss=0.622115, stage=eval]\n"
     ]
    },
    {
     "name": "stdout",
     "output_type": "stream",
     "text": [
      "Model Saved at digit-recognizer.pt\n",
      "Model was saved based on_eval_metric with 0.8282251610900416 accuracy\n"
     ]
    },
    {
     "name": "stderr",
     "output_type": "stream",
     "text": [
      "100%|██████████| 132/132 [00:18<00:00,  7.13it/s, accuracy=0.85, current_lr=0.0001, epoch=6, f1_score=0.845, loss=0.555259, stage=train] \n",
      "100%|██████████| 33/33 [00:01<00:00, 19.67it/s, accuracy=0.855, epoch=6, f1_score=0.85, loss=0.524166, stage=eval] \n"
     ]
    },
    {
     "name": "stdout",
     "output_type": "stream",
     "text": [
      "Model Saved at digit-recognizer.pt\n",
      "Model was saved based on_eval_metric with 0.8547858397165934 accuracy\n"
     ]
    },
    {
     "name": "stderr",
     "output_type": "stream",
     "text": [
      "100%|██████████| 132/132 [00:17<00:00,  7.56it/s, accuracy=0.874, current_lr=0.0001, epoch=7, f1_score=0.87, loss=0.470227, stage=train] \n",
      "100%|██████████| 33/33 [00:01<00:00, 20.44it/s, accuracy=0.876, epoch=7, f1_score=0.872, loss=0.450679, stage=eval]\n"
     ]
    },
    {
     "name": "stdout",
     "output_type": "stream",
     "text": [
      "Model Saved at digit-recognizer.pt\n",
      "Model was saved based on_eval_metric with 0.8760653409090909 accuracy\n"
     ]
    },
    {
     "name": "stderr",
     "output_type": "stream",
     "text": [
      "100%|██████████| 132/132 [00:17<00:00,  7.76it/s, accuracy=0.89, current_lr=0.0001, epoch=8, f1_score=0.886, loss=0.408348, stage=train] \n",
      "100%|██████████| 33/33 [00:01<00:00, 20.30it/s, accuracy=0.891, epoch=8, f1_score=0.888, loss=0.397884, stage=eval]\n"
     ]
    },
    {
     "name": "stdout",
     "output_type": "stream",
     "text": [
      "Model Saved at digit-recognizer.pt\n",
      "Model was saved based on_eval_metric with 0.8911804340102456 accuracy\n"
     ]
    },
    {
     "name": "stderr",
     "output_type": "stream",
     "text": [
      "100%|██████████| 132/132 [00:17<00:00,  7.69it/s, accuracy=0.904, current_lr=0.0001, epoch=9, f1_score=0.901, loss=0.357748, stage=train]\n",
      "100%|██████████| 33/33 [00:01<00:00, 20.59it/s, accuracy=0.903, epoch=9, f1_score=0.9, loss=0.353898, stage=eval]  \n"
     ]
    },
    {
     "name": "stdout",
     "output_type": "stream",
     "text": [
      "Model Saved at digit-recognizer.pt\n",
      "Model was saved based on_eval_metric with 0.9032725095748901 accuracy\n"
     ]
    },
    {
     "name": "stderr",
     "output_type": "stream",
     "text": [
      "100%|██████████| 132/132 [00:17<00:00,  7.60it/s, accuracy=0.914, current_lr=0.0001, epoch=10, f1_score=0.91, loss=0.316879, stage=train] \n",
      "100%|██████████| 33/33 [00:01<00:00, 19.63it/s, accuracy=0.914, epoch=10, f1_score=0.911, loss=0.318337, stage=eval]\n"
     ]
    },
    {
     "name": "stdout",
     "output_type": "stream",
     "text": [
      "Model Saved at digit-recognizer.pt\n",
      "Model was saved based on_eval_metric with 0.9141626610900416 accuracy\n"
     ]
    },
    {
     "name": "stderr",
     "output_type": "stream",
     "text": [
      "100%|██████████| 132/132 [00:18<00:00,  7.01it/s, accuracy=0.922, current_lr=0.0001, epoch=11, f1_score=0.919, loss=0.285896, stage=train]\n",
      "100%|██████████| 33/33 [00:01<00:00, 18.56it/s, accuracy=0.921, epoch=11, f1_score=0.918, loss=0.291129, stage=eval]\n"
     ]
    },
    {
     "name": "stdout",
     "output_type": "stream",
     "text": [
      "Model Saved at digit-recognizer.pt\n",
      "Model was saved based on_eval_metric with 0.921082823565512 accuracy\n"
     ]
    },
    {
     "name": "stderr",
     "output_type": "stream",
     "text": [
      "100%|██████████| 132/132 [00:17<00:00,  7.46it/s, accuracy=0.928, current_lr=0.0001, epoch=12, f1_score=0.926, loss=0.260992, stage=train]\n",
      "100%|██████████| 33/33 [00:01<00:00, 19.01it/s, accuracy=0.924, epoch=12, f1_score=0.923, loss=0.270440, stage=eval]\n"
     ]
    },
    {
     "name": "stdout",
     "output_type": "stream",
     "text": [
      "Model Saved at digit-recognizer.pt\n",
      "Model was saved based on_eval_metric with 0.9244791666666666 accuracy\n"
     ]
    },
    {
     "name": "stderr",
     "output_type": "stream",
     "text": [
      "100%|██████████| 132/132 [00:17<00:00,  7.55it/s, accuracy=0.934, current_lr=0.0001, epoch=13, f1_score=0.932, loss=0.237613, stage=train]\n",
      "100%|██████████| 33/33 [00:01<00:00, 16.96it/s, accuracy=0.93, epoch=13, f1_score=0.929, loss=0.252875, stage=eval] \n"
     ]
    },
    {
     "name": "stdout",
     "output_type": "stream",
     "text": [
      "Model Saved at digit-recognizer.pt\n",
      "Model was saved based on_eval_metric with 0.9299879814639236 accuracy\n"
     ]
    },
    {
     "name": "stderr",
     "output_type": "stream",
     "text": [
      "100%|██████████| 132/132 [00:18<00:00,  6.95it/s, accuracy=0.939, current_lr=0.0001, epoch=14, f1_score=0.937, loss=0.217758, stage=train]\n",
      "100%|██████████| 33/33 [00:01<00:00, 19.49it/s, accuracy=0.933, epoch=14, f1_score=0.932, loss=0.236808, stage=eval]\n"
     ]
    },
    {
     "name": "stdout",
     "output_type": "stream",
     "text": [
      "Model Saved at digit-recognizer.pt\n",
      "Model was saved based on_eval_metric with 0.933393429626118 accuracy\n"
     ]
    },
    {
     "name": "stderr",
     "output_type": "stream",
     "text": [
      "100%|██████████| 132/132 [00:17<00:00,  7.57it/s, accuracy=0.943, current_lr=0.0001, epoch=15, f1_score=0.941, loss=0.202696, stage=train]\n",
      "100%|██████████| 33/33 [00:01<00:00, 18.82it/s, accuracy=0.937, epoch=15, f1_score=0.935, loss=0.223561, stage=eval]\n"
     ]
    },
    {
     "name": "stdout",
     "output_type": "stream",
     "text": [
      "Model Saved at digit-recognizer.pt\n",
      "Model was saved based on_eval_metric with 0.9369900931011547 accuracy\n"
     ]
    },
    {
     "name": "stderr",
     "output_type": "stream",
     "text": [
      "100%|██████████| 132/132 [00:17<00:00,  7.60it/s, accuracy=0.947, current_lr=0.0001, epoch=16, f1_score=0.946, loss=0.189272, stage=train]\n",
      "100%|██████████| 33/33 [00:01<00:00, 17.59it/s, accuracy=0.939, epoch=16, f1_score=0.938, loss=0.210925, stage=eval]\n"
     ]
    },
    {
     "name": "stdout",
     "output_type": "stream",
     "text": [
      "Model Saved at digit-recognizer.pt\n",
      "Model was saved based on_eval_metric with 0.9392755681818182 accuracy\n"
     ]
    },
    {
     "name": "stderr",
     "output_type": "stream",
     "text": [
      "100%|██████████| 132/132 [00:17<00:00,  7.37it/s, accuracy=0.95, current_lr=0.0001, epoch=17, f1_score=0.948, loss=0.179096, stage=train] \n",
      "100%|██████████| 33/33 [00:01<00:00, 19.04it/s, accuracy=0.942, epoch=17, f1_score=0.941, loss=0.199391, stage=eval]\n"
     ]
    },
    {
     "name": "stdout",
     "output_type": "stream",
     "text": [
      "Model Saved at digit-recognizer.pt\n",
      "Model was saved based on_eval_metric with 0.9423805366862904 accuracy\n"
     ]
    },
    {
     "name": "stderr",
     "output_type": "stream",
     "text": [
      "100%|██████████| 132/132 [00:18<00:00,  7.27it/s, accuracy=0.954, current_lr=0.0001, epoch=18, f1_score=0.952, loss=0.167709, stage=train]\n",
      "100%|██████████| 33/33 [00:01<00:00, 20.02it/s, accuracy=0.944, epoch=18, f1_score=0.942, loss=0.192539, stage=eval]\n"
     ]
    },
    {
     "name": "stdout",
     "output_type": "stream",
     "text": [
      "Model Saved at digit-recognizer.pt\n",
      "Model was saved based on_eval_metric with 0.9440013116056268 accuracy\n"
     ]
    },
    {
     "name": "stderr",
     "output_type": "stream",
     "text": [
      "100%|██████████| 132/132 [00:21<00:00,  6.17it/s, accuracy=0.956, current_lr=0.0001, epoch=19, f1_score=0.955, loss=0.157917, stage=train]\n",
      "100%|██████████| 33/33 [00:02<00:00, 15.63it/s, accuracy=0.947, epoch=19, f1_score=0.945, loss=0.185573, stage=eval]\n"
     ]
    },
    {
     "name": "stdout",
     "output_type": "stream",
     "text": [
      "Model Saved at digit-recognizer.pt\n",
      "Model was saved based on_eval_metric with 0.9467875867178945 accuracy\n"
     ]
    },
    {
     "name": "stderr",
     "output_type": "stream",
     "text": [
      "100%|██████████| 132/132 [00:21<00:00,  6.22it/s, accuracy=0.958, current_lr=0.0001, epoch=20, f1_score=0.957, loss=0.148720, stage=train]\n",
      "100%|██████████| 33/33 [00:01<00:00, 19.12it/s, accuracy=0.949, epoch=20, f1_score=0.947, loss=0.176911, stage=eval]\n"
     ]
    },
    {
     "name": "stdout",
     "output_type": "stream",
     "text": [
      "Model Saved at digit-recognizer.pt\n",
      "Model was saved based on_eval_metric with 0.9485358397165934 accuracy\n"
     ]
    }
   ],
   "source": [
    "def main():\n",
    "    df = pd.read_csv('train.csv')\n",
    "    train, test = train_test_split(df, test_size=0.2)\n",
    "\n",
    "    train_dataset = DigitRecognizerDataset(df = train, augmentations = train_augs)\n",
    "    valid_dataset = DigitRecognizerDataset(df = test, augmentations = valid_augs)\n",
    "\n",
    "    model = DigitRecognizerModel()\n",
    "    model.fit(train_dataset, valid_dataset, train_bs = configs['train_bs'], valid_bs = configs['valid_bs'], device = configs['device'], epochs = configs['epochs'], logger=False)\n",
    "\n",
    "if __name__ == \"__main__\":\n",
    "    main()"
   ]
  }
 ],
 "metadata": {
  "kernelspec": {
   "display_name": "my_env",
   "language": "python",
   "name": "python3"
  },
  "language_info": {
   "codemirror_mode": {
    "name": "ipython",
    "version": 3
   },
   "file_extension": ".py",
   "mimetype": "text/x-python",
   "name": "python",
   "nbconvert_exporter": "python",
   "pygments_lexer": "ipython3",
   "version": "3.10.8"
  }
 },
 "nbformat": 4,
 "nbformat_minor": 2
}
