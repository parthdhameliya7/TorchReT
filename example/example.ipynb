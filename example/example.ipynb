{
 "cells": [
  {
   "cell_type": "code",
   "execution_count": 1,
   "metadata": {},
   "outputs": [],
   "source": [
    "import sys\n",
    "sys.path.append('/Users/parth/Desktop/Flash/')"
   ]
  },
  {
   "cell_type": "code",
   "execution_count": 2,
   "metadata": {},
   "outputs": [
    {
     "name": "stderr",
     "output_type": "stream",
     "text": [
      "/Users/parth/miniconda3/envs/my_env/lib/python3.10/site-packages/tqdm/auto.py:22: TqdmWarning: IProgress not found. Please update jupyter and ipywidgets. See https://ipywidgets.readthedocs.io/en/stable/user_install.html\n",
      "  from .autonotebook import tqdm as notebook_tqdm\n"
     ]
    }
   ],
   "source": [
    "import torch \n",
    "import torch.nn as nn\n",
    "import numpy as np\n",
    "import pandas as pd \n",
    "import neptune\n",
    "\n",
    "from sklearn import metrics\n",
    "from sklearn.model_selection import train_test_split\n",
    "\n",
    "import timm\n",
    "import albumentations\n",
    "from neptune.types import File\n",
    "from torchret import Model \n",
    "import plotly.graph_objects as go"
   ]
  },
  {
   "cell_type": "code",
   "execution_count": 3,
   "metadata": {},
   "outputs": [],
   "source": [
    "configs = {\n",
    "    'lr' : 1e-4,\n",
    "    'eta_min' : 1e-6,\n",
    "    'T_0' : 20,\n",
    "    'epochs' : 20,\n",
    "    'step_scheduler_after' : 'epoch',\n",
    "\n",
    "    'train_bs' : 256,\n",
    "    'valid_bs' : 256,\n",
    "\n",
    "    'num_workers' : 0,\n",
    "    'pin_memory' : False,\n",
    "\n",
    "    'model_name' : 'resnet10t',\n",
    "    'pretrained' : True,\n",
    "    'num_classes' : 10,\n",
    "    'in_channels' : 1,\n",
    "    'device' : 'mps',\n",
    "\n",
    "    'model_path' : 'digit-recognizer.pt',\n",
    "    'save_best_model' : 'on_eval_metric',\n",
    "    'save_on_metric' : 'accuracy',\n",
    "    'save_model_at_every_epoch' : False,\n",
    "\n",
    "}"
   ]
  },
  {
   "cell_type": "code",
   "execution_count": 4,
   "metadata": {},
   "outputs": [],
   "source": [
    "class DigitRecognizerDataset(torch.utils.data.Dataset):\n",
    "    def __init__(self, df, augmentations):\n",
    "        self.df = df\n",
    "        self.targets = df.label.values\n",
    "        self.df = self.df.drop(columns=[\"label\"])\n",
    "        self.augmentations = augmentations\n",
    "\n",
    "        self.images = self.df.to_numpy(dtype=np.float32).reshape((-1, 28, 28))\n",
    "\n",
    "    def __len__(self):\n",
    "        return len(self.df)\n",
    "\n",
    "    def __getitem__(self, item):\n",
    "        targets = self.targets[item]\n",
    "        image = self.images[item]\n",
    "        image = np.expand_dims(image, axis=0)\n",
    "\n",
    "        return {\n",
    "            \"images\": torch.tensor(image, dtype=torch.float),\n",
    "            \"targets\": torch.tensor(targets, dtype=torch.long),\n",
    "        }"
   ]
  },
  {
   "cell_type": "code",
   "execution_count": 5,
   "metadata": {},
   "outputs": [],
   "source": [
    "train_augs = albumentations.Compose(\n",
    "        [\n",
    "            albumentations.Normalize(\n",
    "                mean=[0.485, 0.456, 0.406],\n",
    "                std=[0.229, 0.224, 0.225],\n",
    "                max_pixel_value=255.0,\n",
    "                p=1.0,\n",
    "            ),\n",
    "        ],\n",
    "        p=1.0,\n",
    "    )\n",
    "\n",
    "valid_augs = albumentations.Compose(\n",
    "        [\n",
    "            albumentations.Normalize(\n",
    "                mean=[0.485, 0.456, 0.406],\n",
    "                std=[0.229, 0.224, 0.225],\n",
    "                max_pixel_value=255.0,\n",
    "                p=1.0,\n",
    "            ),\n",
    "        ],\n",
    "        p=1.0,\n",
    "    )"
   ]
  },
  {
   "cell_type": "code",
   "execution_count": 6,
   "metadata": {},
   "outputs": [],
   "source": [
    "class DigitRecognizerModel(Model):\n",
    "    def __init__(self):\n",
    "        super().__init__()\n",
    "\n",
    "        self.model = timm.create_model(\n",
    "            model_name = configs['model_name'],\n",
    "            pretrained=configs['pretrained'],\n",
    "            in_chans=configs['in_channels'],\n",
    "            num_classes=configs['num_classes'],\n",
    "        )\n",
    "\n",
    "        self.num_workers = configs['num_workers']\n",
    "        self.pin_memory = configs['pin_memory']\n",
    "        self.step_scheduler_after = configs['step_scheduler_after']\n",
    "\n",
    "        self.model_path = configs['model_path']\n",
    "        self.save_best_model = configs['save_best_model']\n",
    "        self.save_on_metric = configs['save_on_metric']\n",
    "        self.save_model_at_every_epoch = configs['save_model_at_every_epoch']\n",
    "\n",
    "    def setup_logger(self):\n",
    "        neptune_api = NEPTUNE_API_TOKEN\n",
    "        self.run = neptune.init_run(\n",
    "            project='fenilsavani62/Digit-recog',\n",
    "            api_token=neptune_api,\n",
    "            capture_stdout=True,       # Enable capture of stdout\n",
    "            capture_stderr=True,       # Enable capture of stderr\n",
    "            capture_traceback=True,    # Enable capture of traceback\n",
    "            capture_hardware_metrics=True,  # Enable capture of hardware metrics\n",
    "            source_files='*.ipynb'  # Capture notebook outputs\n",
    "        )\n",
    "        self.run['parameters'] = configs\n",
    "\n",
    "    def valid_one_step_logs(self, batch_id, data, logits, loss, metrics):\n",
    "        if batch_id % len(self.validloader) == 100:\n",
    "            images = data['images']\n",
    "            labels = data['targets']\n",
    "            outputs = np.argmax(logits.cpu().detach().numpy(), axis=1)\n",
    "            images = images.permute(0, 2, 3, 1).squeeze().cpu()\n",
    "            for i in range(len(images)):\n",
    "                description = f'true label : {labels[i]} prediction : {outputs[i]}'\n",
    "                self.run[\"valid/prediction_example\"].append(File.as_image(images[i]), description = description)\n",
    "\n",
    "    def train_one_epoch_logs(self, loss, monitor):\n",
    "        self.run['train/loss'].append(loss)\n",
    "        self.run['train/monitors'].append(monitor)\n",
    "\n",
    "    def valid_one_epoch_logs(self, loss, monitor):\n",
    "        self.run['valid/loss'].append(loss)\n",
    "        self.run['valid/monitors'].append(monitor)\n",
    "\n",
    "    def monitor_metrics(self, outputs, targets):\n",
    "        device = targets.device.type\n",
    "        outputs = np.argmax(outputs.cpu().detach().numpy(), axis=1)\n",
    "        targets = targets.cpu().detach().numpy()\n",
    "        acc = metrics.accuracy_score(targets, outputs)\n",
    "        acc = torch.tensor(acc).float()\n",
    "        f1_score = metrics.f1_score(targets, outputs, average = 'macro')\n",
    "        f1_score = torch.tensor(f1_score)\n",
    "        return {\"accuracy\": acc, 'f1_score' : f1_score}\n",
    "    \n",
    "    def monitor_loss(self, outputs, targets):\n",
    "        loss = nn.CrossEntropyLoss()(outputs, targets)\n",
    "        return loss\n",
    "\n",
    "    def fetch_optimizer(self):\n",
    "        opt = torch.optim.SGD(\n",
    "            self.parameters(),\n",
    "            lr=configs['lr'],\n",
    "            momentum=0.9,\n",
    "        )\n",
    "        sch = torch.optim.lr_scheduler.CosineAnnealingWarmRestarts(\n",
    "            opt, \n",
    "            T_0 = configs['T_0'],\n",
    "            eta_min = configs['eta_min'],\n",
    "            T_mult= 1\n",
    "        )\n",
    "        return opt, sch\n",
    "\n",
    "    def forward(self, images, targets=None):\n",
    "        x = self.model(images)\n",
    "        if targets is not None:\n",
    "            loss = self.monitor_loss(x, targets)\n",
    "            metrics = self.monitor_metrics(x, targets)\n",
    "            return x, loss, metrics\n",
    "        return x, 0, {}"
   ]
  },
  {
   "cell_type": "code",
   "execution_count": 7,
   "metadata": {},
   "outputs": [
    {
     "name": "stderr",
     "output_type": "stream",
     "text": [
      "100%|██████████| 132/132 [00:30<00:00,  4.33it/s, accuracy=0.262, current_lr=0.0001, epoch=1, f1_score=0.251, loss=2.160345, stage=train]\n"
     ]
    },
    {
     "name": "stdout",
     "output_type": "stream",
     "text": [
      "done\n"
     ]
    },
    {
     "name": "stderr",
     "output_type": "stream",
     "text": [
      "100%|██████████| 33/33 [00:01<00:00, 17.58it/s, accuracy=0.441, epoch=1, f1_score=0.425, loss=1.724169, stage=eval]\n"
     ]
    },
    {
     "name": "stdout",
     "output_type": "stream",
     "text": [
      "Model Saved at digit-recognizer.pt\n",
      "Model was saved based on_eval_metric with 0.4411239804643573 accuracy\n"
     ]
    },
    {
     "name": "stderr",
     "output_type": "stream",
     "text": [
      "100%|██████████| 132/132 [00:20<00:00,  6.43it/s, accuracy=0.56, current_lr=9.94e-5, epoch=2, f1_score=0.543, loss=1.437836, stage=train] \n"
     ]
    },
    {
     "name": "stdout",
     "output_type": "stream",
     "text": [
      "done\n"
     ]
    },
    {
     "name": "stderr",
     "output_type": "stream",
     "text": [
      "100%|██████████| 33/33 [00:01<00:00, 18.54it/s, accuracy=0.652, epoch=2, f1_score=0.637, loss=1.208167, stage=eval]\n"
     ]
    },
    {
     "name": "stdout",
     "output_type": "stream",
     "text": [
      "Model Saved at digit-recognizer.pt\n",
      "Model was saved based on_eval_metric with 0.6519522143132759 accuracy\n"
     ]
    },
    {
     "name": "stderr",
     "output_type": "stream",
     "text": [
      "100%|██████████| 132/132 [00:22<00:00,  6.00it/s, accuracy=0.704, current_lr=9.76e-5, epoch=3, f1_score=0.692, loss=1.039377, stage=train]\n"
     ]
    },
    {
     "name": "stdout",
     "output_type": "stream",
     "text": [
      "done\n"
     ]
    },
    {
     "name": "stderr",
     "output_type": "stream",
     "text": [
      "100%|██████████| 33/33 [00:03<00:00,  9.10it/s, accuracy=0.749, epoch=3, f1_score=0.738, loss=0.894846, stage=eval]\n"
     ]
    },
    {
     "ename": "KeyboardInterrupt",
     "evalue": "",
     "output_type": "error",
     "traceback": [
      "\u001b[0;31m---------------------------------------------------------------------------\u001b[0m",
      "\u001b[0;31mKeyboardInterrupt\u001b[0m                         Traceback (most recent call last)",
      "Cell \u001b[0;32mIn[7], line 12\u001b[0m\n\u001b[1;32m      9\u001b[0m     model\u001b[38;5;241m.\u001b[39mfit(train_dataset, valid_dataset, train_bs \u001b[38;5;241m=\u001b[39m configs[\u001b[38;5;124m'\u001b[39m\u001b[38;5;124mtrain_bs\u001b[39m\u001b[38;5;124m'\u001b[39m], valid_bs \u001b[38;5;241m=\u001b[39m configs[\u001b[38;5;124m'\u001b[39m\u001b[38;5;124mvalid_bs\u001b[39m\u001b[38;5;124m'\u001b[39m], device \u001b[38;5;241m=\u001b[39m configs[\u001b[38;5;124m'\u001b[39m\u001b[38;5;124mdevice\u001b[39m\u001b[38;5;124m'\u001b[39m], epochs \u001b[38;5;241m=\u001b[39m configs[\u001b[38;5;124m'\u001b[39m\u001b[38;5;124mepochs\u001b[39m\u001b[38;5;124m'\u001b[39m], logger\u001b[38;5;241m=\u001b[39m\u001b[38;5;28;01mFalse\u001b[39;00m)\n\u001b[1;32m     11\u001b[0m \u001b[38;5;28;01mif\u001b[39;00m \u001b[38;5;18m__name__\u001b[39m \u001b[38;5;241m==\u001b[39m \u001b[38;5;124m\"\u001b[39m\u001b[38;5;124m__main__\u001b[39m\u001b[38;5;124m\"\u001b[39m:\n\u001b[0;32m---> 12\u001b[0m     \u001b[43mmain\u001b[49m\u001b[43m(\u001b[49m\u001b[43m)\u001b[49m\n",
      "Cell \u001b[0;32mIn[7], line 9\u001b[0m, in \u001b[0;36mmain\u001b[0;34m()\u001b[0m\n\u001b[1;32m      6\u001b[0m valid_dataset \u001b[38;5;241m=\u001b[39m DigitRecognizerDataset(df \u001b[38;5;241m=\u001b[39m test, augmentations \u001b[38;5;241m=\u001b[39m valid_augs)\n\u001b[1;32m      8\u001b[0m model \u001b[38;5;241m=\u001b[39m DigitRecognizerModel()\n\u001b[0;32m----> 9\u001b[0m \u001b[43mmodel\u001b[49m\u001b[38;5;241;43m.\u001b[39;49m\u001b[43mfit\u001b[49m\u001b[43m(\u001b[49m\u001b[43mtrain_dataset\u001b[49m\u001b[43m,\u001b[49m\u001b[43m \u001b[49m\u001b[43mvalid_dataset\u001b[49m\u001b[43m,\u001b[49m\u001b[43m \u001b[49m\u001b[43mtrain_bs\u001b[49m\u001b[43m \u001b[49m\u001b[38;5;241;43m=\u001b[39;49m\u001b[43m \u001b[49m\u001b[43mconfigs\u001b[49m\u001b[43m[\u001b[49m\u001b[38;5;124;43m'\u001b[39;49m\u001b[38;5;124;43mtrain_bs\u001b[39;49m\u001b[38;5;124;43m'\u001b[39;49m\u001b[43m]\u001b[49m\u001b[43m,\u001b[49m\u001b[43m \u001b[49m\u001b[43mvalid_bs\u001b[49m\u001b[43m \u001b[49m\u001b[38;5;241;43m=\u001b[39;49m\u001b[43m \u001b[49m\u001b[43mconfigs\u001b[49m\u001b[43m[\u001b[49m\u001b[38;5;124;43m'\u001b[39;49m\u001b[38;5;124;43mvalid_bs\u001b[39;49m\u001b[38;5;124;43m'\u001b[39;49m\u001b[43m]\u001b[49m\u001b[43m,\u001b[49m\u001b[43m \u001b[49m\u001b[43mdevice\u001b[49m\u001b[43m \u001b[49m\u001b[38;5;241;43m=\u001b[39;49m\u001b[43m \u001b[49m\u001b[43mconfigs\u001b[49m\u001b[43m[\u001b[49m\u001b[38;5;124;43m'\u001b[39;49m\u001b[38;5;124;43mdevice\u001b[39;49m\u001b[38;5;124;43m'\u001b[39;49m\u001b[43m]\u001b[49m\u001b[43m,\u001b[49m\u001b[43m \u001b[49m\u001b[43mepochs\u001b[49m\u001b[43m \u001b[49m\u001b[38;5;241;43m=\u001b[39;49m\u001b[43m \u001b[49m\u001b[43mconfigs\u001b[49m\u001b[43m[\u001b[49m\u001b[38;5;124;43m'\u001b[39;49m\u001b[38;5;124;43mepochs\u001b[39;49m\u001b[38;5;124;43m'\u001b[39;49m\u001b[43m]\u001b[49m\u001b[43m,\u001b[49m\u001b[43m \u001b[49m\u001b[43mlogger\u001b[49m\u001b[38;5;241;43m=\u001b[39;49m\u001b[38;5;28;43;01mFalse\u001b[39;49;00m\u001b[43m)\u001b[49m\n",
      "File \u001b[0;32m~/Desktop/Flash/torchret/model.py:321\u001b[0m, in \u001b[0;36mfit\u001b[0;34m(self, train_dataset, valid_dataset, device, epochs, train_bs, valid_bs, logger)\u001b[0m\n\u001b[1;32m    319\u001b[0m             \u001b[38;5;28;01mif\u001b[39;00m \u001b[38;5;28mself\u001b[39m\u001b[38;5;241m.\u001b[39mvalid_metrics[\u001b[38;5;28mself\u001b[39m\u001b[38;5;241m.\u001b[39msave_on_metric] \u001b[38;5;241m>\u001b[39m \u001b[38;5;28mself\u001b[39m\u001b[38;5;241m.\u001b[39mbest_score:\n\u001b[1;32m    320\u001b[0m                 \u001b[38;5;28mself\u001b[39m\u001b[38;5;241m.\u001b[39msave(\u001b[38;5;124mf\u001b[39m\u001b[38;5;124m'\u001b[39m\u001b[38;5;132;01m{\u001b[39;00m\u001b[38;5;28mself\u001b[39m\u001b[38;5;241m.\u001b[39mmodel_path\u001b[38;5;132;01m}\u001b[39;00m\u001b[38;5;124m'\u001b[39m, \u001b[38;5;28mself\u001b[39m\u001b[38;5;241m.\u001b[39mweights_only)\n\u001b[0;32m--> 321\u001b[0m                 \u001b[38;5;28mprint\u001b[39m(\u001b[38;5;124mf\u001b[39m\u001b[38;5;124m'\u001b[39m\u001b[38;5;124mModel was saved based \u001b[39m\u001b[38;5;132;01m{\u001b[39;00m\u001b[38;5;28mself\u001b[39m\u001b[38;5;241m.\u001b[39msave_best_model\u001b[38;5;132;01m}\u001b[39;00m\u001b[38;5;124m with \u001b[39m\u001b[38;5;132;01m{\u001b[39;00m\u001b[38;5;28mself\u001b[39m\u001b[38;5;241m.\u001b[39mvalid_metrics[\u001b[38;5;28mself\u001b[39m\u001b[38;5;241m.\u001b[39msave_on_metric]\u001b[38;5;132;01m}\u001b[39;00m\u001b[38;5;124m \u001b[39m\u001b[38;5;132;01m{\u001b[39;00m\u001b[38;5;28mself\u001b[39m\u001b[38;5;241m.\u001b[39msave_on_metric\u001b[38;5;132;01m}\u001b[39;00m\u001b[38;5;124m'\u001b[39m)\n\u001b[1;32m    322\u001b[0m                 \u001b[38;5;28mself\u001b[39m\u001b[38;5;241m.\u001b[39mbest_score \u001b[38;5;241m=\u001b[39m \u001b[38;5;28mself\u001b[39m\u001b[38;5;241m.\u001b[39mvalid_metrics[\u001b[38;5;28mself\u001b[39m\u001b[38;5;241m.\u001b[39msave_on_metric]\n\u001b[1;32m    323\u001b[0m \u001b[38;5;28;01mif\u001b[39;00m \u001b[38;5;28mself\u001b[39m\u001b[38;5;241m.\u001b[39msave_model_at_every_epoch \u001b[38;5;129;01mis\u001b[39;00m \u001b[38;5;28;01mTrue\u001b[39;00m:\n",
      "File \u001b[0;32m~/Desktop/Flash/torchret/model.py:242\u001b[0m, in \u001b[0;36msave\u001b[0;34m(self, model_path, weights_only)\u001b[0m\n\u001b[1;32m    239\u001b[0m     model_dict[\u001b[38;5;124m'\u001b[39m\u001b[38;5;124mvalid_metrics\u001b[39m\u001b[38;5;124m'\u001b[39m] \u001b[38;5;241m=\u001b[39m \u001b[38;5;28mself\u001b[39m\u001b[38;5;241m.\u001b[39mvalid_metrics\n\u001b[1;32m    241\u001b[0m torch\u001b[38;5;241m.\u001b[39msave(model_dict, model_path)\n\u001b[0;32m--> 242\u001b[0m \u001b[38;5;28mprint\u001b[39m(\u001b[38;5;124mf\u001b[39m\u001b[38;5;124m'\u001b[39m\u001b[38;5;124mModel Saved at \u001b[39m\u001b[38;5;132;01m{\u001b[39;00mmodel_path\u001b[38;5;132;01m}\u001b[39;00m\u001b[38;5;124m'\u001b[39m)\n",
      "File \u001b[0;32m~/miniconda3/envs/my_env/lib/python3.10/site-packages/torch/serialization.py:628\u001b[0m, in \u001b[0;36msave\u001b[0;34m(obj, f, pickle_module, pickle_protocol, _use_new_zipfile_serialization, _disable_byteorder_record)\u001b[0m\n\u001b[1;32m    626\u001b[0m \u001b[38;5;28;01mif\u001b[39;00m _use_new_zipfile_serialization:\n\u001b[1;32m    627\u001b[0m     \u001b[38;5;28;01mwith\u001b[39;00m _open_zipfile_writer(f) \u001b[38;5;28;01mas\u001b[39;00m opened_zipfile:\n\u001b[0;32m--> 628\u001b[0m         \u001b[43m_save\u001b[49m\u001b[43m(\u001b[49m\u001b[43mobj\u001b[49m\u001b[43m,\u001b[49m\u001b[43m \u001b[49m\u001b[43mopened_zipfile\u001b[49m\u001b[43m,\u001b[49m\u001b[43m \u001b[49m\u001b[43mpickle_module\u001b[49m\u001b[43m,\u001b[49m\u001b[43m \u001b[49m\u001b[43mpickle_protocol\u001b[49m\u001b[43m,\u001b[49m\u001b[43m \u001b[49m\u001b[43m_disable_byteorder_record\u001b[49m\u001b[43m)\u001b[49m\n\u001b[1;32m    629\u001b[0m         \u001b[38;5;28;01mreturn\u001b[39;00m\n\u001b[1;32m    630\u001b[0m \u001b[38;5;28;01melse\u001b[39;00m:\n",
      "File \u001b[0;32m~/miniconda3/envs/my_env/lib/python3.10/site-packages/torch/serialization.py:859\u001b[0m, in \u001b[0;36m_save\u001b[0;34m(obj, zip_file, pickle_module, pickle_protocol, _disable_byteorder_record)\u001b[0m\n\u001b[1;32m    855\u001b[0m \u001b[38;5;66;03m# given that we copy things around anyway, we might use storage.cpu()\u001b[39;00m\n\u001b[1;32m    856\u001b[0m \u001b[38;5;66;03m# this means to that to get tensors serialized, you need to implement\u001b[39;00m\n\u001b[1;32m    857\u001b[0m \u001b[38;5;66;03m# .cpu() on the underlying Storage\u001b[39;00m\n\u001b[1;32m    858\u001b[0m \u001b[38;5;28;01mif\u001b[39;00m storage\u001b[38;5;241m.\u001b[39mdevice\u001b[38;5;241m.\u001b[39mtype \u001b[38;5;241m!=\u001b[39m \u001b[38;5;124m'\u001b[39m\u001b[38;5;124mcpu\u001b[39m\u001b[38;5;124m'\u001b[39m:\n\u001b[0;32m--> 859\u001b[0m     storage \u001b[38;5;241m=\u001b[39m \u001b[43mstorage\u001b[49m\u001b[38;5;241;43m.\u001b[39;49m\u001b[43mcpu\u001b[49m\u001b[43m(\u001b[49m\u001b[43m)\u001b[49m\n\u001b[1;32m    860\u001b[0m \u001b[38;5;66;03m# Now that it is on the CPU we can directly copy it into the zip file\u001b[39;00m\n\u001b[1;32m    861\u001b[0m num_bytes \u001b[38;5;241m=\u001b[39m storage\u001b[38;5;241m.\u001b[39mnbytes()\n",
      "File \u001b[0;32m~/miniconda3/envs/my_env/lib/python3.10/site-packages/torch/storage.py:137\u001b[0m, in \u001b[0;36m_StorageBase.cpu\u001b[0;34m(self)\u001b[0m\n\u001b[1;32m    135\u001b[0m \u001b[38;5;124;03m\"\"\"Return a CPU copy of this storage if it's not already on the CPU.\"\"\"\u001b[39;00m\n\u001b[1;32m    136\u001b[0m \u001b[38;5;28;01mif\u001b[39;00m \u001b[38;5;28mself\u001b[39m\u001b[38;5;241m.\u001b[39mdevice\u001b[38;5;241m.\u001b[39mtype \u001b[38;5;241m!=\u001b[39m \u001b[38;5;124m'\u001b[39m\u001b[38;5;124mcpu\u001b[39m\u001b[38;5;124m'\u001b[39m:\n\u001b[0;32m--> 137\u001b[0m     \u001b[38;5;28;01mreturn\u001b[39;00m \u001b[43mtorch\u001b[49m\u001b[38;5;241;43m.\u001b[39;49m\u001b[43mUntypedStorage\u001b[49m\u001b[43m(\u001b[49m\u001b[38;5;28;43mself\u001b[39;49m\u001b[38;5;241;43m.\u001b[39;49m\u001b[43msize\u001b[49m\u001b[43m(\u001b[49m\u001b[43m)\u001b[49m\u001b[43m)\u001b[49m\u001b[38;5;241;43m.\u001b[39;49m\u001b[43mcopy_\u001b[49m\u001b[43m(\u001b[49m\u001b[38;5;28;43mself\u001b[39;49m\u001b[43m,\u001b[49m\u001b[43m \u001b[49m\u001b[38;5;28;43;01mFalse\u001b[39;49;00m\u001b[43m)\u001b[49m\n\u001b[1;32m    138\u001b[0m \u001b[38;5;28;01melse\u001b[39;00m:\n\u001b[1;32m    139\u001b[0m     \u001b[38;5;28;01mreturn\u001b[39;00m \u001b[38;5;28mself\u001b[39m\n",
      "\u001b[0;31mKeyboardInterrupt\u001b[0m: "
     ]
    }
   ],
   "source": [
    "def main():\n",
    "    df = pd.read_csv('/Users/parth/Desktop/Flash/example/train.csv')\n",
    "    train, test = train_test_split(df, test_size=0.2)\n",
    "\n",
    "    train_dataset = DigitRecognizerDataset(df = train, augmentations = train_augs)\n",
    "    valid_dataset = DigitRecognizerDataset(df = test, augmentations = valid_augs)\n",
    "\n",
    "    model = DigitRecognizerModel()\n",
    "    model.fit(train_dataset, valid_dataset, train_bs = configs['train_bs'], valid_bs = configs['valid_bs'], device = configs['device'], epochs = configs['epochs'], logger=False)\n",
    "\n",
    "if __name__ == \"__main__\":\n",
    "    main()"
   ]
  }
 ],
 "metadata": {
  "kernelspec": {
   "display_name": "my_env",
   "language": "python",
   "name": "python3"
  },
  "language_info": {
   "codemirror_mode": {
    "name": "ipython",
    "version": 3
   },
   "file_extension": ".py",
   "mimetype": "text/x-python",
   "name": "python",
   "nbconvert_exporter": "python",
   "pygments_lexer": "ipython3",
   "version": "3.10.8"
  }
 },
 "nbformat": 4,
 "nbformat_minor": 2
}
