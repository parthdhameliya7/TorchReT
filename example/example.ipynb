{
 "cells": [
  {
   "cell_type": "code",
   "execution_count": 33,
   "metadata": {},
   "outputs": [],
   "source": [
    "import torch \n",
    "import torch.nn as nn\n",
    "import numpy as np\n",
    "import pandas as pd \n",
    "\n",
    "from sklearn import metrics\n",
    "from sklearn.model_selection import train_test_split\n",
    "\n",
    "import timm\n",
    "import albumentations\n",
    "\n",
    "from torchret import Model "
   ]
  },
  {
   "cell_type": "code",
   "execution_count": 34,
   "metadata": {},
   "outputs": [],
   "source": [
    "configs = {\n",
    "    'epochs' : 10,\n",
    "    'lr' : 1e-4,\n",
    "    'eta_min' : 1e-6,\n",
    "    'T_0' : 10,\n",
    "    'epochs' : 10,\n",
    "    'step_scheduler_after' : 'epoch',\n",
    "\n",
    "    'train_bs' : 64,\n",
    "    'valid_bs' : 64,\n",
    "\n",
    "    'num_workers' : 0,\n",
    "    'pin_memory' : False,\n",
    "\n",
    "    'model_name' : 'resnet10t',\n",
    "    'pretrained' : True,\n",
    "    'num_classes' : 10,\n",
    "    'in_channels' : 1,\n",
    "    'device' : 'mps',\n",
    "\n",
    "    'model_path' : 'digit-recognizer.pt',\n",
    "    'save_best_model' : 'on_eval_metric',\n",
    "    'save_on_metric' : 'accuracy',\n",
    "    'save_model_at_every_epoch' : False,\n",
    "\n",
    "}"
   ]
  },
  {
   "cell_type": "code",
   "execution_count": 35,
   "metadata": {},
   "outputs": [],
   "source": [
    "class DigitRecognizerDataset:\n",
    "    def __init__(self, df, augmentations):\n",
    "        self.df = df\n",
    "        self.targets = df.label.values\n",
    "        self.df = self.df.drop(columns=[\"label\"])\n",
    "        self.augmentations = augmentations\n",
    "\n",
    "        self.images = self.df.to_numpy(dtype=np.float32).reshape((-1, 28, 28))\n",
    "\n",
    "    def __len__(self):\n",
    "        return len(self.df)\n",
    "\n",
    "    def __getitem__(self, item):\n",
    "        targets = self.targets[item]\n",
    "        image = self.images[item]\n",
    "        image = np.expand_dims(image, axis=0)\n",
    "\n",
    "        return {\n",
    "            \"images\": torch.tensor(image, dtype=torch.float),\n",
    "            \"targets\": torch.tensor(targets, dtype=torch.long),\n",
    "        }"
   ]
  },
  {
   "cell_type": "code",
   "execution_count": 36,
   "metadata": {},
   "outputs": [],
   "source": [
    "train_augs = albumentations.Compose(\n",
    "        [\n",
    "            albumentations.Normalize(\n",
    "                mean=[0.485, 0.456, 0.406],\n",
    "                std=[0.229, 0.224, 0.225],\n",
    "                max_pixel_value=255.0,\n",
    "                p=1.0,\n",
    "            ),\n",
    "        ],\n",
    "        p=1.0,\n",
    "    )\n",
    "\n",
    "valid_augs = albumentations.Compose(\n",
    "        [\n",
    "            albumentations.Normalize(\n",
    "                mean=[0.485, 0.456, 0.406],\n",
    "                std=[0.229, 0.224, 0.225],\n",
    "                max_pixel_value=255.0,\n",
    "                p=1.0,\n",
    "            ),\n",
    "        ],\n",
    "        p=1.0,\n",
    "    )"
   ]
  },
  {
   "cell_type": "code",
   "execution_count": 37,
   "metadata": {},
   "outputs": [],
   "source": [
    "df = pd.read_csv('train.csv')\n",
    "train, test = train_test_split(df, test_size=0.2)\n",
    "\n",
    "train_dataset = DigitRecognizerDataset(df = train, augmentations = train_augs)\n",
    "valid_dataset = DigitRecognizerDataset(df = test, augmentations = valid_augs)"
   ]
  },
  {
   "cell_type": "code",
   "execution_count": 38,
   "metadata": {},
   "outputs": [
    {
     "data": {
      "image/png": "[encoded data removed]",
      "text/plain": [
       "<Figure size 640x480 with 1 Axes>"
      ]
     },
     "metadata": {},
     "output_type": "display_data"
    }
   ],
   "source": [
    "import matplotlib.pyplot as plt \n",
    "data = train_dataset[789]\n",
    "\n",
    "plt.imshow(data['images'].permute(1, 2, 0))\n",
    "plt.title(data['targets'].item());"
   ]
  },
  {
   "cell_type": "code",
   "execution_count": 39,
   "metadata": {},
   "outputs": [],
   "source": [
    "class DigitRecognizerModel(Model):\n",
    "    def __init__(self):\n",
    "        super().__init__()\n",
    "\n",
    "        self.model = timm.create_model(\n",
    "            model_name = configs['model_name'],\n",
    "            pretrained=configs['pretrained'],\n",
    "            in_chans=configs['in_channels'],\n",
    "            num_classes=configs['num_classes'],\n",
    "        )\n",
    "\n",
    "        self.num_workers = configs['num_workers']\n",
    "        self.pin_memory = configs['pin_memory']\n",
    "        self.step_scheduler_after = configs['step_scheduler_after']\n",
    "\n",
    "        self.model_path = configs['model_path']\n",
    "        self.save_best_model = configs['save_best_model']\n",
    "        self.save_on_metric = configs['save_on_metric']\n",
    "        self.save_model_at_every_epoch = configs['save_model_at_every_epoch']\n",
    "\n",
    "    def monitor_metrics(self, outputs, targets):\n",
    "        device = targets.device.type\n",
    "        outputs = np.argmax(outputs.cpu().detach().numpy(), axis=1)\n",
    "        targets = targets.cpu().detach().numpy()\n",
    "        acc = metrics.accuracy_score(targets, outputs)\n",
    "        acc = torch.tensor(acc).float()\n",
    "        f1_score = metrics.f1_score(targets, outputs, average = 'macro')\n",
    "        f1_score = torch.tensor(f1_score)\n",
    "        return {\"accuracy\": acc, 'f1_score' : f1_score}\n",
    "    \n",
    "    def monitor_loss(self, outputs, targets):\n",
    "        loss = nn.CrossEntropyLoss()(outputs, targets)\n",
    "        return loss\n",
    "\n",
    "    def fetch_optimizer(self):\n",
    "        opt = torch.optim.SGD(\n",
    "            self.parameters(),\n",
    "            lr=configs['lr'],\n",
    "            momentum=0.9,\n",
    "        )\n",
    "        sch = torch.optim.lr_scheduler.CosineAnnealingWarmRestarts(\n",
    "            opt, \n",
    "            T_0 = configs['T_0'],\n",
    "            eta_min = configs['eta_min'],\n",
    "            T_mult= 1\n",
    "        )\n",
    "        return opt, sch\n",
    "\n",
    "    def forward(self, images, targets=None):\n",
    "        x = self.model(images)\n",
    "        if targets is not None:\n",
    "            loss = self.monitor_loss(x, targets)\n",
    "            metrics = self.monitor_metrics(x, targets)\n",
    "            return x, loss, metrics\n",
    "        return x, 0, {}"
   ]
  },
  {
   "cell_type": "code",
   "execution_count": 40,
   "metadata": {},
   "outputs": [
    {
     "name": "stderr",
     "output_type": "stream",
     "text": [
      "100%|██████████| 525/525 [00:34<00:00, 15.41it/s, accuracy=0.551, current_lr=0.0001, epoch=1, f1_score=0.529, loss=1.412928, stage=train]\n",
      "100%|██████████| 132/132 [00:03<00:00, 40.83it/s, accuracy=0.793, epoch=1, f1_score=0.771, loss=0.746358, stage=eval]\n"
     ]
    },
    {
     "name": "stdout",
     "output_type": "stream",
     "text": [
      "Model Saved at digit-recognizer.pt\n",
      "Model was saved based on_eval_metric with 0.79296875 accuracy\n"
     ]
    },
    {
     "name": "stderr",
     "output_type": "stream",
     "text": [
      "100%|██████████| 525/525 [00:27<00:00, 19.39it/s, accuracy=0.842, current_lr=0.0001, epoch=2, f1_score=0.826, loss=0.574852, stage=train]\n",
      "100%|██████████| 132/132 [00:02<00:00, 54.15it/s, accuracy=0.895, epoch=2, f1_score=0.881, loss=0.396337, stage=eval]\n"
     ]
    },
    {
     "name": "stdout",
     "output_type": "stream",
     "text": [
      "Model Saved at digit-recognizer.pt\n",
      "Model was saved based on_eval_metric with 0.89453125 accuracy\n"
     ]
    },
    {
     "name": "stderr",
     "output_type": "stream",
     "text": [
      "100%|██████████| 525/525 [00:25<00:00, 20.94it/s, accuracy=0.901, current_lr=0.0001, epoch=3, f1_score=0.889, loss=0.350486, stage=train]\n",
      "100%|██████████| 132/132 [00:02<00:00, 59.52it/s, accuracy=0.925, epoch=3, f1_score=0.917, loss=0.270227, stage=eval]\n"
     ]
    },
    {
     "name": "stdout",
     "output_type": "stream",
     "text": [
      "Model Saved at digit-recognizer.pt\n",
      "Model was saved based on_eval_metric with 0.9248342803030303 accuracy\n"
     ]
    },
    {
     "name": "stderr",
     "output_type": "stream",
     "text": [
      "100%|██████████| 525/525 [00:28<00:00, 18.28it/s, accuracy=0.925, current_lr=0.0001, epoch=4, f1_score=0.916, loss=0.262384, stage=train]\n",
      "100%|██████████| 132/132 [00:02<00:00, 54.16it/s, accuracy=0.942, epoch=4, f1_score=0.936, loss=0.206515, stage=eval]\n"
     ]
    },
    {
     "name": "stdout",
     "output_type": "stream",
     "text": [
      "Model Saved at digit-recognizer.pt\n",
      "Model was saved based on_eval_metric with 0.9424715909090909 accuracy\n"
     ]
    },
    {
     "name": "stderr",
     "output_type": "stream",
     "text": [
      "100%|██████████| 525/525 [00:28<00:00, 18.69it/s, accuracy=0.938, current_lr=0.0001, epoch=5, f1_score=0.929, loss=0.209896, stage=train]\n",
      "100%|██████████| 132/132 [00:02<00:00, 48.45it/s, accuracy=0.952, epoch=5, f1_score=0.947, loss=0.172329, stage=eval]\n"
     ]
    },
    {
     "name": "stdout",
     "output_type": "stream",
     "text": [
      "Model Saved at digit-recognizer.pt\n",
      "Model was saved based on_eval_metric with 0.9515861742424242 accuracy\n"
     ]
    },
    {
     "name": "stderr",
     "output_type": "stream",
     "text": [
      "100%|██████████| 525/525 [00:25<00:00, 20.25it/s, accuracy=0.949, current_lr=0.0001, epoch=6, f1_score=0.941, loss=0.175484, stage=train]\n",
      "100%|██████████| 132/132 [00:02<00:00, 55.37it/s, accuracy=0.957, epoch=6, f1_score=0.955, loss=0.150149, stage=eval]\n"
     ]
    },
    {
     "name": "stdout",
     "output_type": "stream",
     "text": [
      "Model Saved at digit-recognizer.pt\n",
      "Model was saved based on_eval_metric with 0.9572679924242424 accuracy\n"
     ]
    },
    {
     "name": "stderr",
     "output_type": "stream",
     "text": [
      "100%|██████████| 525/525 [00:23<00:00, 22.09it/s, accuracy=0.955, current_lr=0.0001, epoch=7, f1_score=0.949, loss=0.152511, stage=train]\n",
      "100%|██████████| 132/132 [00:02<00:00, 59.42it/s, accuracy=0.962, epoch=7, f1_score=0.958, loss=0.135381, stage=eval]\n"
     ]
    },
    {
     "name": "stdout",
     "output_type": "stream",
     "text": [
      "Model Saved at digit-recognizer.pt\n",
      "Model was saved based on_eval_metric with 0.9620028409090909 accuracy\n"
     ]
    },
    {
     "name": "stderr",
     "output_type": "stream",
     "text": [
      "100%|██████████| 525/525 [00:23<00:00, 22.56it/s, accuracy=0.96, current_lr=0.0001, epoch=8, f1_score=0.953, loss=0.136915, stage=train] \n",
      "100%|██████████| 132/132 [00:02<00:00, 61.03it/s, accuracy=0.964, epoch=8, f1_score=0.961, loss=0.124579, stage=eval]\n"
     ]
    },
    {
     "name": "stdout",
     "output_type": "stream",
     "text": [
      "Model Saved at digit-recognizer.pt\n",
      "Model was saved based on_eval_metric with 0.9641335227272727 accuracy\n"
     ]
    },
    {
     "name": "stderr",
     "output_type": "stream",
     "text": [
      "100%|██████████| 525/525 [00:22<00:00, 22.84it/s, accuracy=0.964, current_lr=0.0001, epoch=9, f1_score=0.959, loss=0.118164, stage=train]\n",
      "100%|██████████| 132/132 [00:02<00:00, 59.64it/s, accuracy=0.967, epoch=9, f1_score=0.963, loss=0.113713, stage=eval]\n"
     ]
    },
    {
     "name": "stdout",
     "output_type": "stream",
     "text": [
      "Model Saved at digit-recognizer.pt\n",
      "Model was saved based on_eval_metric with 0.9672111742424242 accuracy\n"
     ]
    },
    {
     "name": "stderr",
     "output_type": "stream",
     "text": [
      "100%|██████████| 525/525 [00:23<00:00, 22.16it/s, accuracy=0.967, current_lr=0.0001, epoch=10, f1_score=0.96, loss=0.110489, stage=train] \n",
      "100%|██████████| 132/132 [00:02<00:00, 50.82it/s, accuracy=0.968, epoch=10, f1_score=0.966, loss=0.107840, stage=eval]\n"
     ]
    },
    {
     "name": "stdout",
     "output_type": "stream",
     "text": [
      "Model Saved at digit-recognizer.pt\n",
      "Model was saved based on_eval_metric with 0.9683948863636364 accuracy\n"
     ]
    }
   ],
   "source": [
    "model = DigitRecognizerModel()\n",
    "model.fit(train_dataset, valid_dataset, device = configs['device'], epochs = configs['epochs'])"
   ]
  },
  {
   "cell_type": "code",
   "execution_count": null,
   "metadata": {},
   "outputs": [],
   "source": []
  }
 ],
 "metadata": {
  "kernelspec": {
   "display_name": "my_env",
   "language": "python",
   "name": "python3"
  },
  "language_info": {
   "codemirror_mode": {
    "name": "ipython",
    "version": 3
   },
   "file_extension": ".py",
   "mimetype": "text/x-python",
   "name": "python",
   "nbconvert_exporter": "python",
   "pygments_lexer": "ipython3",
   "version": "3.10.8"
  }
 },
 "nbformat": 4,
 "nbformat_minor": 2
}
